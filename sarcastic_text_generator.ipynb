{
  "nbformat": 4,
  "nbformat_minor": 0,
  "metadata": {
    "colab": {
      "name": "sarcastic text generator.ipynb",
      "provenance": [],
      "authorship_tag": "ABX9TyM46/9t6eJD1l9za0v8ll4r",
      "include_colab_link": true
    },
    "kernelspec": {
      "name": "python3",
      "display_name": "Python 3"
    }
  },
  "cells": [
    {
      "cell_type": "markdown",
      "metadata": {
        "id": "view-in-github",
        "colab_type": "text"
      },
      "source": [
        "<a href=\"https://colab.research.google.com/github/ambolt314/sarcastic-text-generator/blob/master/sarcastic_text_generator.ipynb\" target=\"_parent\"><img src=\"https://colab.research.google.com/assets/colab-badge.svg\" alt=\"Open In Colab\"/></a>"
      ]
    },
    {
      "cell_type": "code",
      "metadata": {
        "id": "6pJ8iUXS8Nqv",
        "colab_type": "code",
        "colab": {}
      },
      "source": [
        "# high-level method for generating a combination of sarcastic and plain text\n",
        "# P - plain text with some sarcastic text inside\n",
        "def sarcastic_text(P):\n",
        "  text_to_convert = parse(P)\n",
        "  sarcastic = []\n",
        "\n",
        "  # text_to_covert[1] = sarcastic\n",
        "  for s in text_to_convert[1]:\n",
        "    sarcastic.append(convert_to_sarcastic(s))\n",
        "\n",
        "  regular_array = text_to_convert[0]\n",
        "  output_string = ''\n",
        "  for element in regular_array:\n",
        "    if isinstance(element, int):\n",
        "      regular_index = regular_array.index(element)\n",
        "      regular_array[regular_index] = sarcastic[element]\n",
        "\n",
        "  output_array = regular_array\n",
        "  for item in output_array:\n",
        "    output_string += item\n",
        "\n",
        "  return output_string\n"
      ],
      "execution_count": null,
      "outputs": []
    },
    {
      "cell_type": "code",
      "metadata": {
        "id": "J7cY5G078nvA",
        "colab_type": "code",
        "colab": {}
      },
      "source": [
        "# converts sarcastic portion into sarcastic text\n",
        "# S - input string\n",
        "def convert_to_sarcastic(S):\n",
        "  words = S.split()\n",
        "  array = []\n",
        "\n",
        "  for word in words:\n",
        "    word = word.lower()\n",
        "    \n",
        "    new_word = ''\n",
        "\n",
        "    for i in word:\n",
        "      if word.index(i) % 2 == 1 and i.isalpha():\n",
        "        i = i.upper()\n",
        "      new_word += i\n",
        "    word = new_word\n",
        "    array.append(word)\n",
        "  \n",
        "  output = ''\n",
        "  for item in array:\n",
        "    output += ' ' + item\n",
        "  output = output.strip()\n",
        "  return output"
      ],
      "execution_count": null,
      "outputs": []
    },
    {
      "cell_type": "code",
      "metadata": {
        "id": "PbaYLhWb9pvr",
        "colab_type": "code",
        "colab": {
          "base_uri": "https://localhost:8080/",
          "height": 34
        },
        "outputId": "24dd2053-5eaf-496f-d358-e4c5d223e31c"
      },
      "source": [
        "convert_to_sarcastic(\"what is the meaning of this?\")"
      ],
      "execution_count": null,
      "outputs": [
        {
          "output_type": "execute_result",
          "data": {
            "text/plain": [
              "'wHaT iS tHe mEaNiNg oF tHiS?'"
            ]
          },
          "metadata": {
            "tags": []
          },
          "execution_count": 22
        }
      ]
    },
    {
      "cell_type": "code",
      "metadata": {
        "id": "So6eRLbY9tSe",
        "colab_type": "code",
        "colab": {}
      },
      "source": [
        "# identifies portions of sarcastic text in a phrase\n",
        "# P - plain text with some sarcastic text inside\n",
        "# *[format for delimiting sarcastic text]*\n",
        "def parse(P):\n",
        "  regular_strings = []\n",
        "  sarcastic_strings = []\n",
        "  \n",
        "  # 1. extract sarcastic text\n",
        "  character_pointer = 0\n",
        "  phrase_pointer = 0\n",
        "\n",
        "  while character_pointer < len(P):\n",
        "    \n",
        "    # opening bracket detector\n",
        "    if P[character_pointer] == '*':\n",
        "      character_pointer += 1\n",
        "\n",
        "      if P[character_pointer] == '[':\n",
        "        new_sarcastic_string = ''\n",
        "        character_pointer += 1\n",
        "\n",
        "        while P[character_pointer] != ']' and P[character_pointer + 1] != '*':\n",
        "          new_sarcastic_string += P[character_pointer]\n",
        "          character_pointer += 1\n",
        "        \n",
        "        # Indicates where in the text the sarcastic phrase has occured\n",
        "        regular_strings.append(phrase_pointer)\n",
        "        phrase_pointer += 1\n",
        "\n",
        "        sarcastic_strings.append(new_sarcastic_string)\n",
        "      else:\n",
        "        regular_strings.append(P[character_pointer])\n",
        "        character_pointer += 1\n",
        "    \n",
        "    # closing bracket detector\n",
        "    elif P[character_pointer] == ']':\n",
        "      character_pointer += 1\n",
        "      if P[character_pointer] == '*':\n",
        "        character_pointer += 1\n",
        "    else:\n",
        "      regular_strings.append(P[character_pointer])\n",
        "      character_pointer += 1\n",
        "  return (regular_strings, sarcastic_strings)\n",
        "  \n"
      ],
      "execution_count": null,
      "outputs": []
    },
    {
      "cell_type": "code",
      "metadata": {
        "id": "dPGQxZztC2k2",
        "colab_type": "code",
        "colab": {
          "base_uri": "https://localhost:8080/",
          "height": 34
        },
        "outputId": "093abf31-0f0e-4099-f87b-a247aa42bda9"
      },
      "source": [
        "sarcastic_text(\"Hello *[There]* my name is *[Andrew Bolt]*\")"
      ],
      "execution_count": null,
      "outputs": [
        {
          "output_type": "execute_result",
          "data": {
            "text/plain": [
              "'Hello tHeRe my name is aNdReW bOlT'"
            ]
          },
          "metadata": {
            "tags": []
          },
          "execution_count": 81
        }
      ]
    },
    {
      "cell_type": "code",
      "metadata": {
        "id": "7pljUv-M6Jm5",
        "colab_type": "code",
        "colab": {}
      },
      "source": [
        ""
      ],
      "execution_count": null,
      "outputs": []
    }
  ]
}